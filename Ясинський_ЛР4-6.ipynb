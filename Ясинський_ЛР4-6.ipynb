{
  "nbformat": 4,
  "nbformat_minor": 0,
  "metadata": {
    "colab": {
      "name": "Untitled13.ipynb",
      "provenance": [],
      "collapsed_sections": [],
      "authorship_tag": "ABX9TyNc14iqhTKN6Mc6bVbH62P9",
      "include_colab_link": true
    },
    "kernelspec": {
      "name": "python3",
      "display_name": "Python 3"
    },
    "language_info": {
      "name": "python"
    }
  },
  "cells": [
    {
      "cell_type": "markdown",
      "metadata": {
        "id": "view-in-github",
        "colab_type": "text"
      },
      "source": [
        "<a href=\"https://colab.research.google.com/github/PTIch06/YasynskyiLabs/blob/main/%D0%AF%D1%81%D0%B8%D0%BD%D1%81%D1%8C%D0%BA%D0%B8%D0%B9_%D0%9B%D0%A04-6.ipynb\" target=\"_parent\"><img src=\"https://colab.research.google.com/assets/colab-badge.svg\" alt=\"Open In Colab\"/></a>"
      ]
    },
    {
      "cell_type": "markdown",
      "source": [
        "#Лабораторна робота №4 - 6\n",
        "##з дисципліни \"Технології обробки природомовної інформації\"\n",
        "###студента групи КН-31/2\n",
        "###Ясинського Дениса\n",
        "###Варіант №22"
      ],
      "metadata": {
        "id": "TnvPuHgACbX-"
      }
    },
    {
      "cell_type": "markdown",
      "source": [
        "#ЛР4"
      ],
      "metadata": {
        "id": "050Y_kCgCnus"
      }
    },
    {
      "cell_type": "code",
      "source": [
        "# Створіть два будь-яких списки і зв'яжіть їх із змінними\n",
        "firstList = ['a', 'b', 'c', 'd', 'e', 'f', 'g', 'h', 'i', 'j']\n",
        "secondList = [1, 2, 3, 4, 5, 6, 7, 8, 9, 10]\n",
        "print('firstList: ', firstList)\n",
        "print('secondList: ', secondList)"
      ],
      "metadata": {
        "colab": {
          "base_uri": "https://localhost:8080/"
        },
        "id": "78SpaifQD6I8",
        "outputId": "c41fde37-9b75-4733-9d2b-97475ffda034"
      },
      "execution_count": 2,
      "outputs": [
        {
          "output_type": "stream",
          "name": "stdout",
          "text": [
            "firstList:  ['a', 'b', 'c', 'd', 'e', 'f', 'g', 'h', 'i', 'j']\n",
            "secondList:  [1, 2, 3, 4, 5, 6, 7, 8, 9, 10]\n"
          ]
        }
      ]
    },
    {
      "cell_type": "code",
      "source": [
        "# Вийміть з першого списку другий елемент\n",
        "print(firstList[1])"
      ],
      "metadata": {
        "colab": {
          "base_uri": "https://localhost:8080/"
        },
        "id": "HvzZozL4D6F-",
        "outputId": "0bfde52b-e2fc-46d1-9821-44d9c036a226"
      },
      "execution_count": 3,
      "outputs": [
        {
          "output_type": "stream",
          "name": "stdout",
          "text": [
            "b\n"
          ]
        }
      ]
    },
    {
      "cell_type": "code",
      "source": [
        "# Змініть в другому списку останній об'єкт. Виведіть список на екран\n",
        "secondList[-1] = 1000\n",
        "print(secondList)"
      ],
      "metadata": {
        "colab": {
          "base_uri": "https://localhost:8080/"
        },
        "id": "-5mUn1_1D6Da",
        "outputId": "f5a59f10-a754-43cb-bec9-f988d6055a35"
      },
      "execution_count": 4,
      "outputs": [
        {
          "output_type": "stream",
          "name": "stdout",
          "text": [
            "[1, 2, 3, 4, 5, 6, 7, 8, 9, 1000]\n"
          ]
        }
      ]
    },
    {
      "cell_type": "code",
      "source": [
        "# З'єднайте обидва списки в один, присвоївши результат новій змінній. Виведіть отриманий список на екран.\n",
        "newList = firstList + secondList\n",
        "print(newList)"
      ],
      "metadata": {
        "colab": {
          "base_uri": "https://localhost:8080/"
        },
        "id": "kxdnuVMID6Aj",
        "outputId": "c863c230-196d-4615-b9a1-102f5bf6343f"
      },
      "execution_count": 5,
      "outputs": [
        {
          "output_type": "stream",
          "name": "stdout",
          "text": [
            "['a', 'b', 'c', 'd', 'e', 'f', 'g', 'h', 'i', 'j', 1, 2, 3, 4, 5, 6, 7, 8, 9, 1000]\n"
          ]
        }
      ]
    },
    {
      "cell_type": "code",
      "source": [
        "# \"Зніміть\" зріз з об'єднаного списку так, щоб туди потрапили деякі частини обох перших списків. Зріз зв'яжіть з якоюсь новою змінною. Виведіть значення цієї змінної.\n",
        "n = int(0.5*len(firstList))\n",
        "print(n)\n",
        "l = newList[n:3*n]\n",
        "print(l)"
      ],
      "metadata": {
        "colab": {
          "base_uri": "https://localhost:8080/"
        },
        "id": "Nk03nDgdD58X",
        "outputId": "c5ef1c65-2944-421f-e13f-9efd2590fb66"
      },
      "execution_count": 6,
      "outputs": [
        {
          "output_type": "stream",
          "name": "stdout",
          "text": [
            "5\n",
            "['f', 'g', 'h', 'i', 'j', 1, 2, 3, 4, 5]\n"
          ]
        }
      ]
    },
    {
      "cell_type": "code",
      "source": [
        "# Додайте до цього списку-зріза два нові елементи і знову виведіть його\n",
        "l = l + [42, 'y']\n",
        "print(l)"
      ],
      "metadata": {
        "colab": {
          "base_uri": "https://localhost:8080/"
        },
        "id": "EAR6FoX_D5xH",
        "outputId": "fcb8d6ee-ad1d-437d-e7be-7e8d9410586b"
      },
      "execution_count": 7,
      "outputs": [
        {
          "output_type": "stream",
          "name": "stdout",
          "text": [
            "['f', 'g', 'h', 'i', 'j', 1, 2, 3, 4, 5, 42, 'y']\n"
          ]
        }
      ]
    },
    {
      "cell_type": "markdown",
      "source": [
        "#ЛР5"
      ],
      "metadata": {
        "id": "i0GJTCfBGKkX"
      }
    },
    {
      "cell_type": "code",
      "source": [
        "#Створіть словник, зв'язавши його з змінною school, і наповніть його даними, які б відображали кількість учнів у десяти різних класах (наприклад, 1а, 1б, 2б, 6а, 7в і т.д.).\n",
        "school = {'1a':33, '1b':24, '1c':25, '2a':30, '2b':31, '3a':27, '4a':24,\n",
        "          '4b':31, '5a':29, '5c':23, '5d':23}\n",
        "print(school)"
      ],
      "metadata": {
        "colab": {
          "base_uri": "https://localhost:8080/"
        },
        "id": "PU7J3AcgGVYb",
        "outputId": "71ff60bd-bd2c-4d46-e426-fe720a282a07"
      },
      "execution_count": 9,
      "outputs": [
        {
          "output_type": "stream",
          "name": "stdout",
          "text": [
            "{'1a': 33, '1b': 24, '1c': 25, '2a': 30, '2b': 31, '3a': 27, '4a': 24, '4b': 31, '5a': 29, '5c': 23, '5d': 23}\n"
          ]
        }
      ]
    },
    {
      "cell_type": "code",
      "source": [
        "# Дізнайтеся скільки людей в якомусь класі.\n",
        "print(school['1c'])"
      ],
      "metadata": {
        "colab": {
          "base_uri": "https://localhost:8080/"
        },
        "id": "-YRK22IjGVRx",
        "outputId": "d28dc4f5-4494-4921-b2a8-87a18f1a0d74"
      },
      "execution_count": 10,
      "outputs": [
        {
          "output_type": "stream",
          "name": "stdout",
          "text": [
            "25\n"
          ]
        }
      ]
    },
    {
      "cell_type": "code",
      "source": [
        "#3. Уявіть, що в школі відбулися зміни, внесіть їх до словника:\n",
        "#в трьох класах змінилася кількість учнів;\n",
        "school['1a'] = 20\n",
        "school['4b'] = 40\n",
        "school['5a'] = 3\n",
        "\n",
        "#у школі з'явилося два нових класи;\n",
        "school['5e'] = 22\n",
        "school['6a'] = 25\n",
        "\n",
        "#у школі розформували один з класів.\n",
        "del(school['3a'])\n",
        "\n",
        "#Виведіть вміст словника на екран.\n",
        "print(school)"
      ],
      "metadata": {
        "colab": {
          "base_uri": "https://localhost:8080/"
        },
        "id": "ycXIYm6WGVFF",
        "outputId": "dbe0ff9e-e9ac-4e5b-9255-9e0e6d89fba3"
      },
      "execution_count": 11,
      "outputs": [
        {
          "output_type": "stream",
          "name": "stdout",
          "text": [
            "{'1a': 20, '1b': 24, '1c': 25, '2a': 30, '2b': 31, '4a': 24, '4b': 40, '5a': 3, '5c': 23, '5d': 23, '5e': 22, '6a': 25}\n"
          ]
        }
      ]
    },
    {
      "cell_type": "markdown",
      "source": [
        "#ЛР6"
      ],
      "metadata": {
        "id": "wmG4_H9hIq20"
      }
    },
    {
      "cell_type": "code",
      "source": [
        "#Створіть список, що складається з чотирьох рядків. Потім, за допомогою циклу for, виведіть рядки по черзі на екран.\n",
        "st = ['string1', 'string2', 'string3', 'string4']\n",
        "for elem in st:\n",
        "    print(elem)"
      ],
      "metadata": {
        "colab": {
          "base_uri": "https://localhost:8080/"
        },
        "id": "uidQSXmUIxaL",
        "outputId": "80c0ccb9-7257-4db6-cc81-39e65ae920a9"
      },
      "execution_count": 23,
      "outputs": [
        {
          "output_type": "stream",
          "name": "stdout",
          "text": [
            "string1\n",
            "string2\n",
            "string3\n",
            "string4\n"
          ]
        }
      ]
    },
    {
      "cell_type": "code",
      "source": [
        "#Змініть попередню програму так, щоб в кінці кожної букви рядка додавалося тире. (Підказка: цикл for може бути вкладений в інший цикл.)\n",
        "for elem in st:\n",
        "    for ch in elem: \n",
        "        print(ch, end='-')\n",
        "    print()"
      ],
      "metadata": {
        "colab": {
          "base_uri": "https://localhost:8080/"
        },
        "id": "rMGTWIzTJJc9",
        "outputId": "c3cb4ed3-6932-4239-8f6d-6a4e4b913c6f"
      },
      "execution_count": 22,
      "outputs": [
        {
          "output_type": "stream",
          "name": "stdout",
          "text": [
            "s-t-r-i-n-g-1-\n",
            "s-t-r-i-n-g-2-\n",
            "s-t-r-i-n-g-3-\n",
            "s-t-r-i-n-g-4-\n"
          ]
        }
      ]
    },
    {
      "cell_type": "code",
      "source": [
        "#Створіть список, що містить елементи цілочисельного типу, потім за допомогою циклу перебору змініть тип даних елементів на числа з плаваючою крапкою. (Підказка: використовуйте вбудовану функцію float ().)\n",
        "list = [1, 2, 3, 4, 5, 6, 7, 8, 9]\n",
        "i = 0\n",
        "print(list)\n",
        "for elem in list:\n",
        "    list[i] = float(elem)\n",
        "    i += 1\n",
        "print(list)"
      ],
      "metadata": {
        "colab": {
          "base_uri": "https://localhost:8080/"
        },
        "id": "LF6zgik2JJVf",
        "outputId": "6d0361b0-40d9-414a-bc6b-6406870efc2a"
      },
      "execution_count": 16,
      "outputs": [
        {
          "output_type": "stream",
          "name": "stdout",
          "text": [
            "[1, 2, 3, 4, 5, 6, 7, 8, 9]\n",
            "[1.0, 2.0, 3.0, 4.0, 5.0, 6.0, 7.0, 8.0, 9.0]\n"
          ]
        }
      ]
    },
    {
      "cell_type": "markdown",
      "source": [
        "==========================================="
      ],
      "metadata": {
        "id": "yZXynv6YMlsb"
      }
    },
    {
      "cell_type": "code",
      "source": [
        "#Напишіть функцію, яка обчислює суму трьох чисел і повертає результат в основну гілку програми.\n",
        "def sum():\n",
        "    a = int(input('a: '))\n",
        "    b = int(input('b: '))\n",
        "    c = int(input('c: '))\n",
        "    return a + b + c\n",
        "\n",
        "k = sum()\n",
        "print(k)"
      ],
      "metadata": {
        "colab": {
          "base_uri": "https://localhost:8080/"
        },
        "id": "uMqxRJNXMqFB",
        "outputId": "ff09e91c-f2ed-4074-e39f-b14ed8c7b01d"
      },
      "execution_count": 21,
      "outputs": [
        {
          "output_type": "stream",
          "name": "stdout",
          "text": [
            "a: 1\n",
            "b: 2\n",
            "c: 3\n",
            "6\n"
          ]
        }
      ]
    },
    {
      "cell_type": "code",
      "source": [
        "#Придумайте програму, в якій з однієї функції викликається друга. При цьому жодна з них нічого не повертає в основну гілку програми, обидві повинні виводити результати своєї роботи за допомогою функції print().\n",
        "def f1():\n",
        "    print('function 1')\n",
        "\n",
        "def f2():\n",
        "    print('function 2')\n",
        "    f1()\n",
        "f2()"
      ],
      "metadata": {
        "colab": {
          "base_uri": "https://localhost:8080/"
        },
        "id": "92vYNZFPMp7P",
        "outputId": "a99722a8-ccdc-44fd-a84b-7343d40344cd"
      },
      "execution_count": 19,
      "outputs": [
        {
          "output_type": "stream",
          "name": "stdout",
          "text": [
            "function 2\n",
            "function 1\n"
          ]
        }
      ]
    },
    {
      "cell_type": "markdown",
      "source": [
        "========================================\n"
      ],
      "metadata": {
        "id": "xtb1mll0NJ_y"
      }
    },
    {
      "cell_type": "code",
      "source": [
        "#Створіть функцію + викличте її, передавши в якості аргумента значення глобальної змінної, потім будь-яке число і, нарешті, будь-який рядок.\n",
        "def func1(num):\n",
        "    n = num * 5\n",
        "    print (n)\n",
        "\n",
        "a = 10\n",
        "func1(a)\n",
        "func1(4)\n",
        "func1('str')"
      ],
      "metadata": {
        "colab": {
          "base_uri": "https://localhost:8080/"
        },
        "id": "a9Y2oZShNMSA",
        "outputId": "d4ccd37e-a878-479f-9129-23d543ec7cd7"
      },
      "execution_count": 24,
      "outputs": [
        {
          "output_type": "stream",
          "name": "stdout",
          "text": [
            "50\n",
            "20\n",
            "strstrstrstrstr\n"
          ]
        }
      ]
    },
    {
      "cell_type": "code",
      "source": [
        "#Виконайте за допомогою інтерпретатора Python скрипт, попередньо виправивши код функції так, щоб вона повертала значення змінної n:\n",
        "def func(n):\n",
        "    if n < 3:\n",
        "        n = n*10\n",
        "    return n\n",
        "a = 1\n",
        "res = func(a)\n",
        "print(res)"
      ],
      "metadata": {
        "colab": {
          "base_uri": "https://localhost:8080/"
        },
        "id": "caC11kB8Nx4B",
        "outputId": "d395e359-725f-487a-ae73-6002871ef537"
      },
      "execution_count": 28,
      "outputs": [
        {
          "output_type": "stream",
          "name": "stdout",
          "text": [
            "10\n"
          ]
        }
      ]
    }
  ]
}