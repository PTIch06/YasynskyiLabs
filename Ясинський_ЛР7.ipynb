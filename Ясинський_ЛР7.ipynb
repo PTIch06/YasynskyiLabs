{
  "nbformat": 4,
  "nbformat_minor": 0,
  "metadata": {
    "colab": {
      "name": "Untitled14.ipynb",
      "provenance": [],
      "collapsed_sections": [],
      "authorship_tag": "ABX9TyMfhJztkV9tJrEBruPfMOfD",
      "include_colab_link": true
    },
    "kernelspec": {
      "name": "python3",
      "display_name": "Python 3"
    },
    "language_info": {
      "name": "python"
    }
  },
  "cells": [
    {
      "cell_type": "markdown",
      "metadata": {
        "id": "view-in-github",
        "colab_type": "text"
      },
      "source": [
        "<a href=\"https://colab.research.google.com/github/PTIch06/YasynskyiLabs/blob/main/%D0%AF%D1%81%D0%B8%D0%BD%D1%81%D1%8C%D0%BA%D0%B8%D0%B9_%D0%9B%D0%A07.ipynb\" target=\"_parent\"><img src=\"https://colab.research.google.com/assets/colab-badge.svg\" alt=\"Open In Colab\"/></a>"
      ]
    },
    {
      "cell_type": "markdown",
      "source": [
        "#Лабораторна робота №7\n",
        "##з дисципліни \"Технології обробки природомовної інформації\"\n",
        "###студента групи КН-31/2\n",
        "###Ясинського Дениса\n",
        "###Варіант №22"
      ],
      "metadata": {
        "id": "yWH7GXAu7D9Y"
      }
    },
    {
      "cell_type": "markdown",
      "source": [
        "####Завдання 1\n",
        "Дана строка. Разрежьте ее на две равные части (если длина строки — четная, а если длина строки нечетная, то длина первой части должна быть на один символ больше). Переставьте эти две части местами, результат запишите в новую строку и выведите на экран.\n",
        "При решении этой задачи не стоит пользоваться циклами и инструкцией if."
      ],
      "metadata": {
        "id": "O9oKXS927ERE"
      }
    },
    {
      "cell_type": "code",
      "source": [
        "str = input(\"Введіть рядок: \")\n",
        "str_b = str[:int(len(str)/2)+(len(str)%2)]\n",
        "str_e = str[int(len(str)/2)+(len(str)%2)::]\n",
        "str_r = str_e+str_b\n",
        "print(str_r)"
      ],
      "metadata": {
        "colab": {
          "base_uri": "https://localhost:8080/"
        },
        "id": "nDnSpbNA7Rjk",
        "outputId": "39198ed4-9806-4d11-bab5-4b28aedea2ef"
      },
      "execution_count": 3,
      "outputs": [
        {
          "output_type": "stream",
          "name": "stdout",
          "text": [
            "Введіть рядок: helloWorld\n",
            "Worldhello\n"
          ]
        }
      ]
    },
    {
      "cell_type": "markdown",
      "source": [
        "####Завдання 2\n",
        "Дана строка, состоящая ровно из двух слов, разделенных пробелом. Переставьте эти слова местами. Результат запишите в строку и выведите получившуюся строку.\n",
        "При решении этой задачи не стоит пользоваться циклами и инструкцией if."
      ],
      "metadata": {
        "id": "PhyUKLno5lpM"
      }
    },
    {
      "cell_type": "code",
      "source": [
        "str = 'Hello world!'\n",
        " \n",
        "index = str.find(' ')\n",
        "s = str[index+1:] + ' ' + str[:index]\n",
        "print(s)"
      ],
      "metadata": {
        "colab": {
          "base_uri": "https://localhost:8080/"
        },
        "id": "mmf69cNs6Bln",
        "outputId": "a58c188e-6f7b-432d-d75e-1a8ec0c01b0d"
      },
      "execution_count": 5,
      "outputs": [
        {
          "output_type": "stream",
          "name": "stdout",
          "text": [
            "world! Hello\n"
          ]
        }
      ]
    },
    {
      "cell_type": "markdown",
      "source": [
        "####Завдання 3\n",
        "Дана строка. Если в этой строке буква f встречается только один раз, выведите её индекс. Если она встречается два и более раз, выведите индекс её первого и последнего появления. Если буква f в данной строке не встречается, ничего не выводите."
      ],
      "metadata": {
        "id": "WMxzlb2x6YBu"
      }
    },
    {
      "cell_type": "code",
      "source": [
        "str = input(\"Введіть рядок: \")\n",
        "first = str.find('f')\n",
        "if first > 0:\n",
        "    print('first: ', first)\n",
        "second = str.rfind('f')\n",
        "if second > 0 and second != first:\n",
        "    print('last: ', second)"
      ],
      "metadata": {
        "colab": {
          "base_uri": "https://localhost:8080/"
        },
        "id": "W5g91LM66op0",
        "outputId": "0b23a370-4a1a-44ff-f330-7827fdcb3fb7"
      },
      "execution_count": 8,
      "outputs": [
        {
          "output_type": "stream",
          "name": "stdout",
          "text": [
            "Введіть рядок: aaaaafaa rft\n",
            "first:  5\n",
            "last:  10\n"
          ]
        }
      ]
    },
    {
      "cell_type": "markdown",
      "source": [
        "####Завдання 4\n",
        "Дана строка. Найдите в этой строке второе вхождение буквы f, и выведите индекс этого вхождения. Если буква f в данной строке встречается только один раз, выведите число -1, а если не встречается ни разу, выведите число -2."
      ],
      "metadata": {
        "id": "lSYRVxGuD320"
      }
    },
    {
      "cell_type": "code",
      "source": [
        "str = input(\"Введіть рядок: \")\n",
        "first = str.find('f')\n",
        "if first > 0:\n",
        "    second = str.rfind('f')\n",
        "    if second > 0 and second != first:\n",
        "        print('index: ', second)\n",
        "    else:\n",
        "        print('index: ', -1)\n",
        "else:\n",
        "  print('index: ', -2)"
      ],
      "metadata": {
        "colab": {
          "base_uri": "https://localhost:8080/"
        },
        "id": "t8YzP0beD9EI",
        "outputId": "0ddeff63-d8e6-4109-a453-47dc8ed7b741"
      },
      "execution_count": 12,
      "outputs": [
        {
          "output_type": "stream",
          "name": "stdout",
          "text": [
            "Введіть рядок: ttttftttttttftttttt\n",
            "index:  12\n"
          ]
        }
      ]
    },
    {
      "cell_type": "markdown",
      "source": [
        "####Завдання 5\n",
        "Дана строка, в которой буква h встречается минимум два раза. Удалите из этой строки первое и последнее вхождение буквы h, а также все символы, находящиеся между ними.\n"
      ],
      "metadata": {
        "id": "7C1RHxXKGFPR"
      }
    },
    {
      "cell_type": "code",
      "source": [
        "str = 'playing haaaaaaaaaaaabbbbbbhcat'\n",
        "start = str.find('h')\n",
        "end = str.rfind('h')\n",
        "str = str.replace(str[start : end+1], '')\n",
        "print(str)"
      ],
      "metadata": {
        "colab": {
          "base_uri": "https://localhost:8080/"
        },
        "id": "6KLljEe3GfgO",
        "outputId": "06048687-5dcf-41d7-919a-eafc4686f29b"
      },
      "execution_count": 17,
      "outputs": [
        {
          "output_type": "stream",
          "name": "stdout",
          "text": [
            "playing cat\n"
          ]
        }
      ]
    },
    {
      "cell_type": "markdown",
      "source": [
        "####Завдання 6\n",
        "Дана строка, в которой буква h встречается как минимум два раза. Разверните последовательность символов, заключенную между первым и последним появлением буквы h, в противоположном порядке."
      ],
      "metadata": {
        "id": "1RCdKhdVH9pc"
      }
    },
    {
      "cell_type": "code",
      "source": [
        "str = 'playing haaaaaaaaaaaabbbbbbh cat'\n",
        "start = str.find('h')\n",
        "end = str.rfind('h')\n",
        "str = str.replace(str[start : end+1], str[start : end+1][::-1])\n",
        "print(str)"
      ],
      "metadata": {
        "colab": {
          "base_uri": "https://localhost:8080/"
        },
        "id": "ua63ae_CH-WG",
        "outputId": "92ce5997-7294-4bc8-8bde-9492e48944f2"
      },
      "execution_count": 19,
      "outputs": [
        {
          "output_type": "stream",
          "name": "stdout",
          "text": [
            "playing hbbbbbbaaaaaaaaaaaah cat\n"
          ]
        }
      ]
    },
    {
      "cell_type": "markdown",
      "source": [
        "####Завдання 7\n",
        "Дана строка. Замените в этой строке все цифры 1 на слово one."
      ],
      "metadata": {
        "id": "sr_arXNDIBm5"
      }
    },
    {
      "cell_type": "code",
      "source": [
        "str = '1gog'\n",
        "newStr = str.replace('1', 'one')\n",
        "print(newStr)"
      ],
      "metadata": {
        "colab": {
          "base_uri": "https://localhost:8080/"
        },
        "id": "fHuw7PbYIDgv",
        "outputId": "ef4ebe90-4bf5-43fd-a450-8bfa3389cff8"
      },
      "execution_count": 22,
      "outputs": [
        {
          "output_type": "stream",
          "name": "stdout",
          "text": [
            "onegog\n"
          ]
        }
      ]
    },
    {
      "cell_type": "markdown",
      "source": [
        "####Завдання 8\n",
        "Дана строка. Удалите из этой строки все символы @."
      ],
      "metadata": {
        "id": "5CxU07d-ID7r"
      }
    },
    {
      "cell_type": "code",
      "source": [
        "str = '@Hello wor@ld'\n",
        "newStr = str.replace('@', '')\n",
        "print(newStr)"
      ],
      "metadata": {
        "colab": {
          "base_uri": "https://localhost:8080/"
        },
        "id": "Qz0I8qXoIFdu",
        "outputId": "8d1d138c-71fd-4f08-e4be-6034d52ac68e"
      },
      "execution_count": 23,
      "outputs": [
        {
          "output_type": "stream",
          "name": "stdout",
          "text": [
            "Hello world\n"
          ]
        }
      ]
    },
    {
      "cell_type": "markdown",
      "source": [
        "####Завдання 9\n",
        "Дана строка. Замените в этой строке все появления буквы h на букву H, кроме первого и последнего вхождения."
      ],
      "metadata": {
        "id": "YlqNCk2tIFst"
      }
    },
    {
      "cell_type": "code",
      "source": [
        "str = 'playing hhhhhhhhhhhhh cat'\n",
        "start = str.find('h')\n",
        "end = str.rfind('h')\n",
        "str = str[:start+1] + str[start+1:end].replace('h', 'H') + str[end:]\n",
        "print(str)\n"
      ],
      "metadata": {
        "colab": {
          "base_uri": "https://localhost:8080/"
        },
        "id": "W76O5AMWIG4b",
        "outputId": "04fb6e1e-7a0b-415f-c776-8bede553ed86"
      },
      "execution_count": 24,
      "outputs": [
        {
          "output_type": "stream",
          "name": "stdout",
          "text": [
            "playing hHHHHHHHHHHHh cat\n"
          ]
        }
      ]
    },
    {
      "cell_type": "markdown",
      "source": [
        "####Завдання 10\n",
        "Дана строка. Удалите из нее все символы, чьи индексы делятся на 3."
      ],
      "metadata": {
        "id": "pVWqBoDiIHH3"
      }
    },
    {
      "cell_type": "code",
      "source": [
        "str = '_He_ll_o _wo_rl_d!'\n",
        "s = ''\n",
        "for i in range(len(str)):\n",
        "    if i%3 != 0:\n",
        "        s += str[i]\n",
        "print(s)"
      ],
      "metadata": {
        "colab": {
          "base_uri": "https://localhost:8080/"
        },
        "id": "i5YNHOH1IIx1",
        "outputId": "642bedf5-2f8d-48e1-e209-f16d28755011"
      },
      "execution_count": 30,
      "outputs": [
        {
          "output_type": "stream",
          "name": "stdout",
          "text": [
            "Hello world!\n"
          ]
        }
      ]
    }
  ]
}